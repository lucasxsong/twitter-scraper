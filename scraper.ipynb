{
 "cells": [
  {
   "cell_type": "code",
   "execution_count": 25,
   "metadata": {},
   "outputs": [
    {
     "name": "stdout",
     "output_type": "stream",
     "text": [
      "a4r4DVL2wiu7r5mUE1iFY4mRI\n",
      "PWscHlly5NMRUlsuPd6bKtzXNipfxAoDQPJDijX2wlNCwgOPGw\n",
      "958937785791991808-UkIpG4Kqmzag9fRQat2VFOVBIykPbya\n",
      "hg7VSVaGGtHyhWAUTnY37GyZe5l2g3QPOxjLfDNSSejY8\n"
     ]
    }
   ],
   "source": [
    "import os\n",
    "\n",
    "## imports key&tokens from ./etc/conda/activate.d/env_vars.sh \n",
    "# consumer_key = os.environ.get(\"CONSUMER_KEY\")\n",
    "# consumer_secret = os.environ.get(\"CONSUMER_SECRET\")\n",
    "# access_token = os.environ.get(\"ACCESS_TOKEN\")\n",
    "# access_token_secret = os.environ.get(\"ACCESS_TOKEN_SECRET\")\n",
    "\n",
    "consumer_key = \"a4r4DVL2wiu7r5mUE1iFY4mRI\"\n",
    "consumer_secret = \"PWscHlly5NMRUlsuPd6bKtzXNipfxAoDQPJDijX2wlNCwgOPGw\"\n",
    "access_token = \"958937785791991808-UkIpG4Kqmzag9fRQat2VFOVBIykPbya\"\n",
    "access_token_secret = \"hg7VSVaGGtHyhWAUTnY37GyZe5l2g3QPOxjLfDNSSejY8\"\n",
    "\n",
    "print(consumer_key)\n",
    "print(consumer_secret)\n",
    "print(access_token)\n",
    "print(access_token_secret)"
   ]
  },
  {
   "cell_type": "code",
   "execution_count": 26,
   "metadata": {},
   "outputs": [
    {
     "name": "stdout",
     "output_type": "stream",
     "text": [
      "Digging for dollar signs amid edtech's current momentum https://t.co/EIoieKyS3A  | by @nmasc_\n",
      "RT @jordanrcrook: so @roelofbotha  has been to disrupt many times and i've gotten to know him backstage but never actually gotten to interv…\n",
      "There has never been a better time to maybe fold” On last week’s #ECLive, @alex and @nmasc_ spoke with @chudson fro… https://t.co/7oL9IXB8Kk\n",
      "RT @PigsAndPlans: Mac Miller's 2010 mixtape 'K.I.D.S.' is now on all streaming services. Here's Mac at SXSW in 2011. Photo by Roger Kisby.…\n",
      "GM delays GMC Hummer EV debut https://t.co/rvBKw3FUph  | by @kirstenkorosec\n",
      "Wise locks down $5.7 million to scale its challenger bank designed for small businesses https://t.co/cgPpEB3HOL  | by @lucasmtny\n",
      "You're stuck at home and you could use a drink. We've collected some of the best tools to craft your own cocktails… https://t.co/b6vvxmUqEk\n",
      "Frames Wins Games: Playing at 144+ FPS in #Warzone means seeing players earlier, tracking targets better and pickin… https://t.co/LMgzQPr28W\n",
      "RT @zackwhittaker: New: Chegg confirms its third data breach in as many years.\n",
      "\n",
      "https://t.co/tfxP3qHDZm\n",
      "We've investigated a momentary network issue which recently affected German worlds. It's been resolved and we'd lik… https://t.co/x4x3nV6op3\n",
      "Apple and Google release first seed of COVID-19 exposure notification API for contact tracing app developers… https://t.co/NnbYAZwoye\n",
      "I already have a second channel that doesn’t have weed content. I’ve had that channel since like 2016. This would b… https://t.co/ZjwA99GyNq\n",
      "Apple and Google release first seed of COVID-19 exposure notification API for contact tracing app developers https://t.co/xPFRwQi2cY\n",
      "Twitter launches a COVID-19 dataset of tweets for approved developers and researchers https://t.co/cfWRrKIYmR\n",
      "Arm is offering early stage startups free access to its chip designs https://t.co/8wlOXRtwgv  | by @bheater\n",
      "The amount of Fortnite players misinformed about aim assist strength on 244hz w/ controller ON A PC is mind bogglin… https://t.co/zzXUs4z2ji\n",
      "They will go from getting thousands of views in an hour to 100 views in an hour in the snap of a finger. Plus week… https://t.co/a4bkAyvneT\n",
      "Thinking about starting an experiment and posting some content onto a second channel. I swear my channel getting hi… https://t.co/Mz9oagFSLP\n",
      "A narrowly divided US Supreme Court on Monday upheld the right to freely share the official law code of Georgia. Th… https://t.co/zFIKHKtngX\n"
     ]
    }
   ],
   "source": [
    "import tweepy\n",
    "\n",
    "auth = tweepy.OAuthHandler(consumer_key, consumer_secret)\n",
    "auth.set_access_token(access_token, access_token_secret)\n",
    "\n",
    "api = tweepy.API(auth)\n",
    "\n",
    "# user = api.get_user('twitter')\n",
    "\n",
    "public_tweets = api.home_timeline()\n",
    "for tweet in public_tweets:\n",
    "    print(tweet.text)"
   ]
  }
 ],
 "metadata": {
  "kernelspec": {
   "display_name": "Python 3",
   "language": "python",
   "name": "python3"
  },
  "language_info": {
   "codemirror_mode": {
    "name": "ipython",
    "version": 3
   },
   "file_extension": ".py",
   "mimetype": "text/x-python",
   "name": "python",
   "nbconvert_exporter": "python",
   "pygments_lexer": "ipython3",
   "version": "3.7.6"
  }
 },
 "nbformat": 4,
 "nbformat_minor": 4
}
