{
 "cells": [
  {
   "cell_type": "code",
   "execution_count": 37,
   "metadata": {},
   "outputs": [],
   "source": [
    "import config \n",
    "\n",
    "## imports key&tokens from ./etc/conda/activate.d/env_vars.sh \n",
    "# consumer_key = config.consumer_key\n",
    "# consumer_secret = config.consumer_secret\n",
    "# access_token = config.access_token\n",
    "# access_token_secret = config.access_token_secret\n",
    "\n",
    "#nlee\n",
    "# consumer_key = \"a4r4DVL2wiu7r5mUE1iFY4mRI\"\n",
    "# consumer_secret = \"PWscHlly5NMRUlsuPd6bKtzXNipfxAoDQPJDijX2wlNCwgOPGw\"\n",
    "# access_token = \"958937785791991808-UkIpG4Kqmzag9fRQat2VFOVBIykPbya\"\n",
    "# access_token_secret = \"hg7VSVaGGtHyhWAUTnY37GyZe5l2g3QPOxjLfDNSSejY8\"\n"
   ]
  },
  {
   "cell_type": "code",
   "execution_count": 60,
   "metadata": {},
   "outputs": [
    {
     "ename": "SyntaxError",
     "evalue": "invalid syntax (<ipython-input-60-9fb2bc0eaed2>, line 21)",
     "output_type": "error",
     "traceback": [
      "\u001b[0;36m  File \u001b[0;32m\"<ipython-input-60-9fb2bc0eaed2>\"\u001b[0;36m, line \u001b[0;32m21\u001b[0m\n\u001b[0;31m    classMyStreamListener(tweepy.StreamListener):\u001b[0m\n\u001b[0m                                                 ^\u001b[0m\n\u001b[0;31mSyntaxError\u001b[0m\u001b[0;31m:\u001b[0m invalid syntax\n"
     ]
    }
   ],
   "source": [
    "import tweepy\n",
    "import os\n",
    "\n",
    "auth = tweepy.OAuthHandler(consumer_key, consumer_secret)\n",
    "auth.set_access_token(access_token, access_token_secret)\n",
    "\n",
    "# init tweepy API, wait instead of failing on rate_limit\n",
    "api = tweepy.API(auth, wait_on_rate_limit=True)\n",
    "\n",
    "filesize = 10000000 # 10mb\n",
    "numfiles = 2 #200 * 10mb = 2gb\n",
    "keepscraping = true\n",
    "filecount = 1\n",
    "ofilename = \"tweets/t-\" + str(filecount) + \".txt\"\n",
    "# opens file name\n",
    "ofile = open(ofilename, \"w+\")\n",
    "\n",
    "\n",
    "classMyStreamListener(tweepy.StreamListener):\n",
    "        \n",
    "    # add new tweets to tweets list\n",
    "    def on_status(self, status);\n",
    "        # if file bigger than 10mb, close old and write new file\n",
    "        if (os.stat(ofilename) > filesize && filecount < numfiles)\n",
    "            ofile.close()\n",
    "            filecount++;\n",
    "            ofile.open(ofilename, \"w+\")\n",
    "        if filecount >= numfiles\n",
    "            keepscraping = false\n",
    "            \n",
    "        ofile.write(status + \"\\n\\n\")\n",
    "        \n",
    "    # prevent looping errors from locking out API key\n",
    "    def on_error(self, status_code):\n",
    "        if status_code = 420: #blazeit\n",
    "            return False\n",
    "\n",
    "# creates stream\n",
    "myStreamListener = MyStreamListen()\n",
    "myStream = tweepy.Stream(author = api.auth, listener = MyStreamListener)\n",
    "\n",
    "# streams tweets in location l \n",
    "# l = san bernadino to n.corona\n",
    "l = '-117.445506, 33.882631, -117.5083663, 33.980813'\n",
    "\n",
    "myStream.filter(location=[k])\n",
    "# init list that tweets will be stored in\n",
    "# tweets = []"
   ]
  },
  {
   "cell_type": "code",
   "execution_count": null,
   "metadata": {},
   "outputs": [],
   "source": []
  }
 ],
 "metadata": {
  "kernelspec": {
   "display_name": "Python 3",
   "language": "python",
   "name": "python3"
  },
  "language_info": {
   "codemirror_mode": {
    "name": "ipython",
    "version": 3
   },
   "file_extension": ".py",
   "mimetype": "text/x-python",
   "name": "python",
   "nbconvert_exporter": "python",
   "pygments_lexer": "ipython3",
   "version": "3.7.6"
  }
 },
 "nbformat": 4,
 "nbformat_minor": 4
}
