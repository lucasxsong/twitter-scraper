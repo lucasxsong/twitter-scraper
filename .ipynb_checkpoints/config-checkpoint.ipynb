{
 "cells": [
  {
   "cell_type": "code",
   "execution_count": null,
   "metadata": {},
   "outputs": [],
   "source": [
    "consumer_key = \"a4r4DVL2wiu7r5mUE1iFY4mRI\"\n",
    "consumer_secret = \"PWscHlly5NMRUlsuPd6bKtzXNipfxAoDQPJDijX2wlNCwgOPGw\"\n",
    "access_token = \"958937785791991808-UkIpG4Kqmzag9fRQat2VFOVBIykPbya\"\n",
    "access_token_secret = \"hg7VSVaGGtHyhWAUTnY37GyZe5l2g3QPOxjLfDNSSejY8\""
   ]
  }
 ],
 "metadata": {
  "kernelspec": {
   "display_name": "Python 3",
   "language": "python",
   "name": "python3"
  },
  "language_info": {
   "codemirror_mode": {
    "name": "ipython",
    "version": 3
   },
   "file_extension": ".py",
   "mimetype": "text/x-python",
   "name": "python",
   "nbconvert_exporter": "python",
   "pygments_lexer": "ipython3",
   "version": "3.7.6"
  }
 },
 "nbformat": 4,
 "nbformat_minor": 4
}
