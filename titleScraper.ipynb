{
 "cells": [
  {
   "cell_type": "code",
   "execution_count": 3,
   "metadata": {},
   "outputs": [
    {
     "name": "stdout",
     "output_type": "stream",
     "text": [
      "['tweet.txt', '.ipynb_checkpoints']\n",
      "tweet.txt\n",
      "{}\n",
      "{}\n",
      "checkpoint 2\n"
     ]
    },
    {
     "ename": "IsADirectoryError",
     "evalue": "[Errno 21] Is a directory: '.ipynb_checkpoints'",
     "output_type": "error",
     "traceback": [
      "\u001b[0;31m---------------------------------------------------------------------------\u001b[0m",
      "\u001b[0;31mIsADirectoryError\u001b[0m                         Traceback (most recent call last)",
      "\u001b[0;32m<ipython-input-3-7e6e0866600a>\u001b[0m in \u001b[0;36m<module>\u001b[0;34m\u001b[0m\n\u001b[1;32m     25\u001b[0m \u001b[0mdata\u001b[0m \u001b[0;34m=\u001b[0m \u001b[0;34m{\u001b[0m\u001b[0;34m}\u001b[0m\u001b[0;34m\u001b[0m\u001b[0;34m\u001b[0m\u001b[0m\n\u001b[1;32m     26\u001b[0m \u001b[0;32mfor\u001b[0m \u001b[0mi\u001b[0m \u001b[0;32min\u001b[0m \u001b[0mfiles\u001b[0m\u001b[0;34m:\u001b[0m\u001b[0;34m\u001b[0m\u001b[0;34m\u001b[0m\u001b[0m\n\u001b[0;32m---> 27\u001b[0;31m     \u001b[0;32mwith\u001b[0m \u001b[0mopen\u001b[0m\u001b[0;34m(\u001b[0m\u001b[0mi\u001b[0m\u001b[0;34m,\u001b[0m\u001b[0;34m'w'\u001b[0m\u001b[0;34m)\u001b[0m \u001b[0;32mas\u001b[0m \u001b[0mjson_file\u001b[0m\u001b[0;34m:\u001b[0m\u001b[0;34m\u001b[0m\u001b[0;34m\u001b[0m\u001b[0m\n\u001b[0m\u001b[1;32m     28\u001b[0m         \u001b[0mjson\u001b[0m\u001b[0;34m.\u001b[0m\u001b[0mdump\u001b[0m\u001b[0;34m(\u001b[0m\u001b[0mdata\u001b[0m\u001b[0;34m,\u001b[0m \u001b[0mjson_file\u001b[0m\u001b[0;34m)\u001b[0m\u001b[0;34m\u001b[0m\u001b[0;34m\u001b[0m\u001b[0m\n\u001b[1;32m     29\u001b[0m         \u001b[0mprint\u001b[0m\u001b[0;34m(\u001b[0m\u001b[0mdata\u001b[0m\u001b[0;34m)\u001b[0m\u001b[0;34m\u001b[0m\u001b[0;34m\u001b[0m\u001b[0m\n",
      "\u001b[0;31mIsADirectoryError\u001b[0m: [Errno 21] Is a directory: '.ipynb_checkpoints'"
     ]
    }
   ],
   "source": [
    "import urllib\n",
    "import json\n",
    "import os\n",
    "\n",
    "import numpy as np\n",
    "import pandas as pd\n",
    "\n",
    "#Take input as file and read it\n",
    "#look through url for header\n",
    "#search for robot.txt\n",
    "#grab header and store in JSON\n",
    "\n",
    "keepsearching = True\n",
    "\n",
    "\n",
    "#step 1\n",
    "os.chdir(r'/Users/nicholaslee/Documents/College3rdYear/Spring/CS172/twitter-scraper/tweetsTEST')\n",
    "\n",
    "#step 2\n",
    "directory = os.getcwd()\n",
    "files = os.listdir(directory)\n",
    "print(files)\n",
    "print(files[0])\n",
    "\n",
    "data = {}\n",
    "for i in files:\n",
    "    with open(i,'w') as json_file:\n",
    "        json.dump(data, json_file) \n",
    "        print(data)\n",
    "    with open(i) as json_file:\n",
    "        data = json.load(json_file) \n",
    "        print(data)\n",
    "        print(\"checkpoint 2\")\n",
    "\n",
    "# with open(files[0], 'r') as json_file:\n",
    "#     file_content = json_file.read()#THIS HOLDS THE TWEETS\n",
    "# #     print(file_content)\n",
    "\n",
    "\n",
    "# class TweetAnalyzer():\n",
    "#     def tweets_to_data_frame(self, file_content):\n",
    "#         dataframe = pd.DataFrame(data = [files[0] for tweet in file_content], columns = ['Tweets']) #creates a dataframe\n",
    "#         return dataframe\n",
    "\n",
    "\n",
    "# tweet_analyzer = TweetAnalyzer()\n",
    "\n",
    "# dataframe = tweet_analyzer.tweets_to_data_frame(file_content)\n",
    "\n",
    "# print(dataframe)\n",
    "\n",
    "# print(dir(file_content[0]))\n",
    "\n",
    "\n",
    "\n",
    "# for i in files:\n",
    "#     with open(i,'r') as json_file:\n",
    "#         file_content = json_file.read() #reads file -> str\n",
    "#         file_content = '[' + file_content + ']'\n",
    "#         brack_append = json.dumps(file_content)\n",
    "#         data = json.loads(brack_append)\n",
    "#         print(\"checkpoint 2\")\n",
    "        \n",
    "        \n",
    "# for i in files:\n",
    "#     with open(i,'r') as json_file:\n",
    "#         file_content = json_file.read() #reads file -> str\n",
    "#         brack_append = '[' + file_content + ']' #string\n",
    "#         brack_append = json.dumps(brack_append)\n",
    "#         data = json.loads(brack_append)\n",
    "#         print(\"checkpoint 2\")\n"
   ]
  },
  {
   "cell_type": "code",
   "execution_count": null,
   "metadata": {},
   "outputs": [],
   "source": []
  }
 ],
 "metadata": {
  "kernelspec": {
   "display_name": "Python 3",
   "language": "python",
   "name": "python3"
  },
  "language_info": {
   "codemirror_mode": {
    "name": "ipython",
    "version": 3
   },
   "file_extension": ".py",
   "mimetype": "text/x-python",
   "name": "python",
   "nbconvert_exporter": "python",
   "pygments_lexer": "ipython3",
   "version": "3.7.4"
  }
 },
 "nbformat": 4,
 "nbformat_minor": 4
}
