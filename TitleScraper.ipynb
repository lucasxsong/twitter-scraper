{
 "cells": [
  {
   "cell_type": "code",
   "execution_count": 7,
   "metadata": {},
   "outputs": [],
   "source": [
    "import json\n",
    "import fileinput\n",
    "import requests\n",
    "import re\n",
    "import os\n",
    "\n",
    "# helper function to convert our text files to json\n",
    "def text2json(text):\n",
    "    fin = fileinput.input(text, inplace=1)\n",
    "    for line in fin:\n",
    "        if fin.isfirstline():\n",
    "            print (\"[\" + line)\n",
    "        else:\n",
    "            print (\",\" + line)\n",
    "    fin.close()\n",
    "    \n",
    "    f = open(text,\"a\")\n",
    "    f.write(\"]\")\n",
    "    f.close()\n",
    "    \n",
    "# load json from textfile\n",
    "def loaddata(text): \n",
    "    # if json.load fails, format\n",
    "    try:\n",
    "        f = open(text, 'r')\n",
    "        data = json.load(f)\n",
    "        f.close()\n",
    "        return data \n",
    "    except:\n",
    "        print(\"Formatting \" + text + \"...\")\n",
    "        text2json(text)\n",
    "        return loaddata(text)\n",
    "\n",
    "# load title from url\n",
    "def gettitle(url):\n",
    "    r = requests.get(url)\n",
    "    # return text between <title> tags in html \n",
    "    return re.findall(\"(?<=<title>)\\s*(.*)\\s*(?=<\\/title>)\", r.text)\n",
    "\n",
    "# add url title to ['title'] attribute, textfile to new file\n",
    "def addtitle(textfile, outdir, counter):\n",
    "    data = loaddata(textfile)\n",
    "    try:\n",
    "        for tweet in data:\n",
    "            titles = []\n",
    "            for url in tweet['tweet'][0]['entities']['urls']:\n",
    "                try:\n",
    "                    title = gettitle(url['expanded_url'])\n",
    "                except Exception as e: \n",
    "                    print(\"Exception thrown, setting null title\" + str(e))\n",
    "                    title = ''\n",
    "                titles.append(title)\n",
    "            tweet['titles'] = titles\n",
    "\n",
    "        outfile = outdir + \"t-\" + str(counter) + \".json\"\n",
    "        with open(outfile, 'w') as file:\n",
    "             file.write(json.dumps(data)) # use `json.loads` to do the reverse\n",
    "    except Exception as e:\n",
    "        print(\"Exception thrown: \" + str(e))\n",
    "    "
   ]
  },
  {
   "cell_type": "code",
   "execution_count": null,
   "metadata": {},
   "outputs": [
    {
     "name": "stdout",
     "output_type": "stream",
     "text": [
      "Exception thrown, setting null titleHTTPConnectionPool(host='dr.ford', port=80): Max retries exceeded with url: / (Caused by NewConnectionError('<urllib3.connection.HTTPConnection object at 0x10c8ce310>: Failed to establish a new connection: [Errno 8] nodename nor servname provided, or not known'))\n",
      "Exception thrown, setting null titleHTTPConnectionPool(host='scratch.sj', port=80): Max retries exceeded with url: / (Caused by NewConnectionError('<urllib3.connection.HTTPConnection object at 0x10c7c65d0>: Failed to establish a new connection: [Errno 8] nodename nor servname provided, or not known'))\n"
     ]
    }
   ],
   "source": [
    "import os\n",
    "\n",
    "# set up dir\n",
    "# os.chdir('tweets')\n",
    "directory = os.getcwd()\n",
    "files = os.listdir(directory)\n",
    "\n",
    "# for output writing\n",
    "counter = 1\n",
    "odir = \"../convertedtweets/\"\n",
    "\n",
    "for f in files:\n",
    "    filename, file_extension = os.path.splitext(f)\n",
    "    if(file_extension == '.txt'):\n",
    "        addtitle(f, odir, counter)\n",
    "        counter += 1"
   ]
  }
 ],
 "metadata": {
  "kernelspec": {
   "display_name": "Python 3",
   "language": "python",
   "name": "python3"
  }
 },
 "nbformat": 4,
 "nbformat_minor": 4
}
