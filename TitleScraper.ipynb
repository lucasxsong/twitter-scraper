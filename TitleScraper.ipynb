{
 "cells": [
  {
   "cell_type": "code",
   "execution_count": 225,
   "metadata": {},
   "outputs": [],
   "source": [
    "import json\n",
    "import fileinput\n",
    "import requests\n",
    "import re\n",
    "import os\n",
    "\n",
    "# helper function to convert our text files to json\n",
    "def text2json(text):\n",
    "    fin = fileinput.input(text, inplace=1)\n",
    "    for line in fin:\n",
    "        if fin.isfirstline():\n",
    "            print (\"[\" + line)\n",
    "        else:\n",
    "            print (\",\" + line)\n",
    "    fin.close()\n",
    "    \n",
    "    f = open(text,\"a\")\n",
    "    f.write(\"]\")\n",
    "    f.close()\n",
    "    \n",
    "# load json from textfile\n",
    "def loaddata(text): \n",
    "    # if json.load fails, format\n",
    "    try:\n",
    "        f = open(text, 'r')\n",
    "        data = json.load(f)\n",
    "        f.close()\n",
    "        return data \n",
    "    except:\n",
    "        print(\"Formatting \" + text + \"...\")\n",
    "        text2json(text)\n",
    "        return loaddata(text)\n",
    "\n",
    "# load title from url\n",
    "def gettitle(url):\n",
    "    r = requests.get(url)\n",
    "    # return text between <title> tags in html \n",
    "    return re.findall(\"(?<=<title>)\\s*(.*)\\s*(?=<\\/title>)\", r.text)\n",
    "\n",
    "# add url title to ['title'] attribute, textfile to new file\n",
    "def addtitle(textfile, outdir, counter):\n",
    "    data = loaddata(textfile)\n",
    "    try:\n",
    "        for tweet in data:\n",
    "            titles = []\n",
    "            for url in tweet['tweet'][0]['entities']['urls']:\n",
    "                titles.append(gettitle(url['expanded_url']))\n",
    "        #     print(titles)\n",
    "            tweet['titles'] = titles\n",
    "\n",
    "        outfile = outdir + \"t-\" + str(counter) + \".json\"\n",
    "        with open(outfile, 'w') as file:\n",
    "             file.write(json.dumps(data)) # use `json.loads` to do the reverse\n",
    "    except Exception as e:\n",
    "        print(\"Exception thrown: \" + str(e))\n",
    "    "
   ]
  },
  {
   "cell_type": "code",
   "execution_count": 226,
   "metadata": {},
   "outputs": [
    {
     "name": "stdout",
     "output_type": "stream",
     "text": [
      "/Users/lucassong/code/ir/twit-scraper/tweetsk\n"
     ]
    }
   ],
   "source": [
    "import os\n",
    "\n",
    "# set up dir\n",
    "print(os.getcwd())\n",
    "directory = os.getcwd()\n",
    "files = os.listdir(directory)\n",
    "\n",
    "# for output writing\n",
    "counter = 1\n",
    "odir = \"../convertedtweets/\"\n",
    "\n",
    "for f in files:\n",
    "    filename, file_extension = os.path.splitext(f)\n",
    "    if(file_extension == '.json'):\n",
    "        addtitle(f, odir, counter)\n",
    "        counter += 1\n",
    "#     print(f)"
   ]
  }
 ],
 "metadata": {
  "kernelspec": {
   "display_name": "Python 3",
   "language": "python",
   "name": "python3"
  },
  "language_info": {
   "codemirror_mode": {
    "name": "ipython",
    "version": 3
   },
   "file_extension": ".py",
   "mimetype": "text/x-python",
   "name": "python",
   "nbconvert_exporter": "python",
   "pygments_lexer": "ipython3",
   "version": "3.7.6"
  }
 },
 "nbformat": 4,
 "nbformat_minor": 4
}
