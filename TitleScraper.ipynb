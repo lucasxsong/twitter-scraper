{
 "cells": [
  {
   "cell_type": "code",
   "execution_count": 1,
   "metadata": {},
   "outputs": [],
   "source": [
    "import json\n",
    "import fileinput\n",
    "import requests\n",
    "from requests.exceptions import Timeout\n",
    "import re\n",
    "import os\n",
    "import time\n",
    "\n",
    "# helper function to convert our text files to json\n",
    "def text2json(text):\n",
    "    fin = fileinput.input(text, inplace=1)\n",
    "    for line in fin:\n",
    "        if fin.isfirstline():\n",
    "            print (\"[\" + line)\n",
    "        else:\n",
    "            print (\",\" + line)\n",
    "    fin.close()\n",
    "    \n",
    "    f = open(text,\"a\")\n",
    "    f.write(\"]\")\n",
    "    f.close()\n",
    "    \n",
    "# load json from textfile\n",
    "def loaddata(text): \n",
    "    # if json.load fails, format\n",
    "    try:\n",
    "        f = open(text, 'r')\n",
    "        data = json.load(f)\n",
    "        f.close()\n",
    "        return data \n",
    "    except:\n",
    "        print(\"Formatting \" + text + \"...\")\n",
    "        text2json(text)\n",
    "        return loaddata(text)\n",
    "\n",
    "# load title from url\n",
    "def gettitle(url):\n",
    "    try:\n",
    "        r = requests.get(url, timeout=1.5)\n",
    "        if r:\n",
    "            return re.findall(\"(?<=<title>)\\s*(.*)\\s*(?=<\\/title>)\", r.text)\n",
    "        else:\n",
    "            return ''\n",
    "    except Timeout: \n",
    "        print(\"Request timed out\")\n",
    "        return ''\n",
    "    except Exception as e: \n",
    "        print(\"Exception: \", str(e))\n",
    "        return ''\n",
    "        \n",
    "    # return text between <title> tags in html \n",
    "\n",
    "# add url title to ['title'] attribute, textfile to new file\n",
    "def addtitle(textfile, outdir, counter):\n",
    "    data = loaddata(textfile)\n",
    "    try:\n",
    "        print(\"Starting to convert file \" + textfile)\n",
    "        for tweet in data:\n",
    "            titles = []\n",
    "            for url in tweet['tweet'][0]['entities']['urls']:\n",
    "                title = gettitle(url['expanded_url'])\n",
    "                titles.append(title)\n",
    "            tweet['titles'] = titles\n",
    "        outfile = outdir + \"t-\" + str(counter) + \".json\"\n",
    "        with open(outfile, 'w') as file:\n",
    "             file.write(json.dumps(data)) # use `json.loads` to do the reverse\n",
    "        print(\"Finished converting file \" + textfile)\n",
    "    except Exception as e:\n",
    "        print(\"Exception thrown: \" + str(e))\n",
    "    "
   ]
  },
  {
   "cell_type": "code",
   "execution_count": 2,
   "metadata": {},
   "outputs": [
    {
     "name": "stdout",
     "output_type": "stream",
     "text": [
      "['t2-9.txt', 't2-57.txt', 't2-43.txt', 't2-42.txt', 't2-56.txt', 't2-8.txt', 't2-52.txt', 't2-46.txt', 't2-47.txt', 't2-53.txt', 't2-45.txt', 't2-51.txt', 't2-50.txt', 't2-44.txt', 't2-3.txt', 't2-49.txt', 't2-61.txt', 't2-60.txt', 't2-48.txt', 't2-2.txt', 't2-62.txt', 't2-63.txt', 't2-1.txt', 't2-5.txt', 't2-67.txt', 't2-66.txt', 't2-4.txt', 't2-6.txt', 't2-64.txt', 't2-70.txt', 't2-58.txt', 't2-59.txt', 't2-71.txt', 't2-65.txt', 't2-7.txt', '.ipynb_checkpoints', 't-3.txt', 't1-2.txt', 't2-16.txt', 't2-17.txt', 't1-3.txt', 't-2.txt', 't1-1.txt', 't2-29.txt', 't2-15.txt', 't2-14.txt', 't2-28.txt', 't-1.txt', 't-5.txt', 't1-4.txt', 't2-10.txt', 't2-38.txt', 't2-39.txt', 't2-11.txt', 't1-5.txt', 't-4.txt', 't-6.txt', 't1-7.txt', 't2-13.txt', 't2-12.txt', 't1-6.txt', 't-7.txt']\n"
     ]
    }
   ],
   "source": [
    "import os\n",
    "\n",
    "# set up dir\n",
    "# os.chdir(\"tweets\")\n",
    "directory = os.getcwd()\n",
    "files = os.listdir(directory)\n",
    "counter = 28\n",
    "odir = \"../convertedtweets/\"\n",
    "\n",
    "for f in files:\n",
    "    filename, file_extension = os.path.splitext(f)\n",
    "    if(file_extension == '.txt'):\n",
    "        addtitle(f, odir, counter)\n",
    "        counter += 1"
   ]
  },
  {
   "cell_type": "code",
   "execution_count": null,
   "metadata": {},
   "outputs": [],
   "source": []
  }
 ],
 "metadata": {
  "kernelspec": {
   "display_name": "Python 3",
   "language": "python",
   "name": "python3"
  },
  "language_info": {
   "codemirror_mode": {
    "name": "ipython",
    "version": 3
   },
   "file_extension": ".py",
   "mimetype": "text/x-python",
   "name": "python",
   "nbconvert_exporter": "python",
   "pygments_lexer": "ipython3",
   "version": "3.7.6"
  }
 },
 "nbformat": 4,
 "nbformat_minor": 4
}
